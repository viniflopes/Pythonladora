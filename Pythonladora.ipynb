{
  "nbformat": 4,
  "nbformat_minor": 0,
  "metadata": {
    "colab": {
      "provenance": [],
      "toc_visible": true
    },
    "kernelspec": {
      "name": "python3",
      "display_name": "Python 3"
    },
    "language_info": {
      "name": "python"
    }
  },
  "cells": [
    {
      "cell_type": "markdown",
      "source": [
        "#Pythonlator\n",
        "###Calculadora em Python by Vinicius Lopes\n",
        "\n"
      ],
      "metadata": {
        "id": "U6fWfmOOsdlB"
      }
    },
    {
      "cell_type": "code",
      "source": [
        "# Calculadora em Python\n",
        "\n",
        "#Define a função obter_numero e checa a existência de . para definir se será float, int ou inválida.\n",
        "def obter_numero(mensagem):\n",
        "    while True:\n",
        "        entrada = input(mensagem)\n",
        "        try:\n",
        "            # Tentativa de conversão para int ou float\n",
        "            if '.' in entrada:\n",
        "                return float(entrada)\n",
        "            else:\n",
        "                return int(entrada)\n",
        "        except ValueError:\n",
        "            print(\"Entrada inválida. Tente novamente!\")\n",
        "\n",
        "# Laço principal\n",
        "print('Seja bem vindo à Pythonladora!\\n')\n",
        "#Retém os valores da função obter_numero em 2 variáveis, num1 e num2.\n",
        "while True:\n",
        "    # Recebendo dois números\n",
        "    num1 = obter_numero(\"Digite o primeiro número: \")\n",
        "    num2 = obter_numero(\"Digite o segundo número: \")\n",
        "\n",
        "    # Menu de operações possíveis\n",
        "    print(\"\\nEscolha uma operação:\")\n",
        "    print(\"1 - Adição\")\n",
        "    print(\"2 - Subtração\")\n",
        "    print(\"3 - Multiplicação\")\n",
        "    print(\"4 - Divisão\")\n",
        "    print(\"5 - Sair\")\n",
        "\n",
        "    escolha = input(\"Digite o número da operação desejada: \")\n",
        "\n",
        "    # Realizando as operações\n",
        "    if escolha == '1':\n",
        "        print(f\"Resultado: {num1 + num2}\")\n",
        "    elif escolha == '2':\n",
        "        print(f\"Resultado: {num1 - num2}\")\n",
        "    elif escolha == '3':\n",
        "        print(f\"Resultado: {num1 * num2}\")\n",
        "    elif escolha == '4':\n",
        "        if num2 != 0:\n",
        "            print(f\"Resultado: {num1 / num2}\")\n",
        "        else:\n",
        "            print(\"Erro: divisão por zero!\")\n",
        "    elif escolha == '5':\n",
        "        print(\"Obrigado por utilizar a Pythonladora.\")\n",
        "        break\n",
        "    else:\n",
        "        print(\"Opção inválida! Tente novamente.\")\n",
        "\n",
        "    # Linha de separação das operações pós resultado\n",
        "    print(\"-\" * 30)\n"
      ],
      "metadata": {
        "colab": {
          "base_uri": "https://localhost:8080/"
        },
        "id": "hSO1hJtczHGw",
        "outputId": "c3db5cf6-4bdd-473f-a83d-6b842a042572"
      },
      "execution_count": null,
      "outputs": [
        {
          "output_type": "stream",
          "name": "stdout",
          "text": [
            "Seja bem vindo à Pythonladora!\n",
            "\n",
            "Digite o primeiro número: 3\n",
            "Digite o segundo número: 4\n",
            "\n",
            "Escolha uma operação:\n",
            "1 - Adição\n",
            "2 - Subtração\n",
            "3 - Multiplicação\n",
            "4 - Divisão\n",
            "5 - Sair\n",
            "Digite o número da operação desejada: 4\n",
            "Resultado: 0.75\n",
            "------------------------------\n",
            "Digite o primeiro número: \n",
            "Entrada inválida. Tente novamente!\n"
          ]
        }
      ]
    },
    {
      "cell_type": "code",
      "source": [],
      "metadata": {
        "id": "mNkqE2Bzz6AM"
      },
      "execution_count": null,
      "outputs": []
    }
  ]
}